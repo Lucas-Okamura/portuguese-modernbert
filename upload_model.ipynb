{
 "cells": [
  {
   "cell_type": "code",
   "execution_count": 1,
   "metadata": {},
   "outputs": [
    {
     "name": "stderr",
     "output_type": "stream",
     "text": [
      "/home/sagemaker-user/portuguese-modernbert/.venv/lib/python3.11/site-packages/tqdm/auto.py:21: TqdmWarning: IProgress not found. Please update jupyter and ipywidgets. See https://ipywidgets.readthedocs.io/en/stable/user_install.html\n",
      "  from .autonotebook import tqdm as notebook_tqdm\n"
     ]
    }
   ],
   "source": [
    "import torch\n",
    "from transformers import AutoModelForMaskedLM, AutoTokenizer, pipeline"
   ]
  },
  {
   "cell_type": "code",
   "execution_count": 2,
   "metadata": {},
   "outputs": [
    {
     "name": "stdout",
     "output_type": "stream",
     "text": [
      "Special tokens and their IDs:\n",
      "pad_token: [PAD] - ID: 0\n",
      "cls_token: [CLS] - ID: 2\n",
      "sep_token: [SEP] - ID: 3\n",
      "mask_token: [MASK] - ID: 4\n",
      "unk_token: [UNK] - ID: 1\n",
      "\n",
      "All special tokens dictionary:\n",
      "{'unk_token': '[UNK]', 'sep_token': '[SEP]', 'pad_token': '[PAD]', 'cls_token': '[CLS]', 'mask_token': '[MASK]'}\n"
     ]
    }
   ],
   "source": [
    "tokenizer = AutoTokenizer.from_pretrained(\"ricardoz/BERTugues-base-portuguese-cased\")\n",
    "\n",
    "print(\"Special tokens and their IDs:\")\n",
    "print(f\"pad_token: {tokenizer.pad_token} - ID: {tokenizer.pad_token_id}\")\n",
    "print(f\"cls_token: {tokenizer.cls_token} - ID: {tokenizer.cls_token_id}\")\n",
    "print(f\"sep_token: {tokenizer.sep_token} - ID: {tokenizer.sep_token_id}\")\n",
    "print(f\"mask_token: {tokenizer.mask_token} - ID: {tokenizer.mask_token_id}\")\n",
    "print(f\"unk_token: {tokenizer.unk_token} - ID: {tokenizer.unk_token_id}\")\n",
    "\n",
    "# Para ver todos os tokens especiais juntos:\n",
    "print(\"\\nAll special tokens dictionary:\")\n",
    "print(tokenizer.special_tokens_map)"
   ]
  },
  {
   "cell_type": "code",
   "execution_count": 9,
   "metadata": {},
   "outputs": [
    {
     "name": "stderr",
     "output_type": "stream",
     "text": [
      "Flash Attention 2 only supports torch.float16 and torch.bfloat16 dtypes, but the current dype in ModernBertForMaskedLM is torch.float32. You should run training or inference using Automatic Mixed-Precision via the `with torch.autocast(device_type='torch_device'):` decorator, or load the model with the `torch_dtype` argument. Example: `model = AutoModel.from_pretrained(\"openai/whisper-tiny\", attn_implementation=\"flash_attention_2\", torch_dtype=torch.float16)`\n",
      "Flash Attention 2 only supports torch.float16 and torch.bfloat16 dtypes, but the current dype in ModernBertModel is torch.float32. You should run training or inference using Automatic Mixed-Precision via the `with torch.autocast(device_type='torch_device'):` decorator, or load the model with the `torch_dtype` argument. Example: `model = AutoModel.from_pretrained(\"openai/whisper-tiny\", attn_implementation=\"flash_attention_2\", torch_dtype=torch.float16)`\n"
     ]
    },
    {
     "name": "stdout",
     "output_type": "stream",
     "text": [
      "Special tokens IDs from the model config:\n",
      "pad_token_id: 50283\n",
      "cls_token_id: 50281\n",
      "sep_token_id: 50282\n",
      "bos_token_id: 50281\n",
      "eos_token_id: 50282\n"
     ]
    }
   ],
   "source": [
    "model = AutoModelForMaskedLM.from_pretrained(\"answerdotai/ModernBERT-base\")\n",
    "# model = AutoModelForMaskedLM.from_pretrained(\"chandar-lab/NeoBERT\")\n",
    "\n",
    "print(\"Special tokens IDs from the model config:\")\n",
    "print(f\"pad_token_id: {model.config.pad_token_id}\")\n",
    "print(f\"cls_token_id: {model.config.cls_token_id}\")\n",
    "print(f\"sep_token_id: {model.config.sep_token_id}\")\n",
    "# print(f\"mask_token_id: {model.config.mask_token_id}\")\n",
    "print(f\"bos_token_id: {model.config.bos_token_id}\")  # início de sequência (se aplicável)\n",
    "print(f\"eos_token_id: {model.config.eos_token_id}\")  # fim de sequência (se aplicável)\n"
   ]
  },
  {
   "cell_type": "code",
   "execution_count": 3,
   "metadata": {},
   "outputs": [
    {
     "name": "stderr",
     "output_type": "stream",
     "text": [
      "Device set to use cuda:0\n",
      "Some weights of the model checkpoint at neuralmind/bert-base-portuguese-cased were not used when initializing BertForMaskedLM: ['bert.pooler.dense.bias', 'bert.pooler.dense.weight', 'cls.seq_relationship.bias', 'cls.seq_relationship.weight']\n",
      "- This IS expected if you are initializing BertForMaskedLM from the checkpoint of a model trained on another task or with another architecture (e.g. initializing a BertForSequenceClassification model from a BertForPreTraining model).\n",
      "- This IS NOT expected if you are initializing BertForMaskedLM from the checkpoint of a model that you expect to be exactly identical (initializing a BertForSequenceClassification model from a BertForSequenceClassification model).\n",
      "Device set to use cuda:0\n"
     ]
    }
   ],
   "source": [
    "model_path_modernbert = \"checkpoints_v2/ckpt-199999\"  # caminho local onde seu modelo foi salvo\n",
    "model_path_bertimbau = \"neuralmind/bert-base-portuguese-cased\"  # caminho local onde seu modelo foi salvo\n",
    "# model_path = \"chandar-lab/NeoBERT\"\n",
    "\n",
    "# model = AutoModelForMaskedLM.from_pretrained(model_path, torch_dtype=torch.bfloat16)\n",
    "# tokenizer = AutoTokenizer.from_pretrained(model_path)\n",
    "pipe_modernbert = pipeline(task=\"fill-mask\", model=model_path_modernbert)\n",
    "pipe_bertimbau = pipeline(task=\"fill-mask\", model=model_path_bertimbau)"
   ]
  },
  {
   "cell_type": "code",
   "execution_count": 4,
   "metadata": {},
   "outputs": [
    {
     "ename": "NameError",
     "evalue": "name 'model' is not defined",
     "output_type": "error",
     "traceback": [
      "\u001b[31m---------------------------------------------------------------------------\u001b[39m",
      "\u001b[31mNameError\u001b[39m                                 Traceback (most recent call last)",
      "\u001b[36mCell\u001b[39m\u001b[36m \u001b[39m\u001b[32mIn[4]\u001b[39m\u001b[32m, line 1\u001b[39m\n\u001b[32m----> \u001b[39m\u001b[32m1\u001b[39m \u001b[43mmodel\u001b[49m.get_input_embeddings().num_embeddings\n",
      "\u001b[31mNameError\u001b[39m: name 'model' is not defined"
     ]
    }
   ],
   "source": [
    "model.get_input_embeddings().num_embeddings"
   ]
  },
  {
   "cell_type": "code",
   "execution_count": 7,
   "metadata": {},
   "outputs": [
    {
     "name": "stdout",
     "output_type": "stream",
     "text": [
      "ModernBERT\n"
     ]
    },
    {
     "data": {
      "text/plain": [
       "[{'score': 0.515625,\n",
       "  'token': 10907,\n",
       "  'token_str': 'feliz',\n",
       "  'sequence': 'eu sou muito feliz. recebi minha certificacao hoje.'},\n",
       " {'score': 0.048095703125,\n",
       "  'token': 2844,\n",
       "  'token_str': 'profissional',\n",
       "  'sequence': 'eu sou muito profissional. recebi minha certificacao hoje.'},\n",
       " {'score': 0.0291748046875,\n",
       "  'token': 1790,\n",
       "  'token_str': 'bem',\n",
       "  'sequence': 'eu sou muito bem. recebi minha certificacao hoje.'},\n",
       " {'score': 0.02001953125,\n",
       "  'token': 1932,\n",
       "  'token_str': 'especial',\n",
       "  'sequence': 'eu sou muito especial. recebi minha certificacao hoje.'},\n",
       " {'score': 0.018798828125,\n",
       "  'token': 2019,\n",
       "  'token_str': 'novo',\n",
       "  'sequence': 'eu sou muito novo. recebi minha certificacao hoje.'}]"
      ]
     },
     "execution_count": 7,
     "metadata": {},
     "output_type": "execute_result"
    }
   ],
   "source": [
    "frase = \"Eu sou muito [MASK]. Recebi minha certificação hoje.\"\n",
    "print(\"ModernBERT\")\n",
    "pipe_modernbert(frase)"
   ]
  },
  {
   "cell_type": "code",
   "execution_count": 8,
   "metadata": {},
   "outputs": [
    {
     "name": "stdout",
     "output_type": "stream",
     "text": [
      "BERTimbau\n"
     ]
    },
    {
     "data": {
      "text/plain": [
       "[{'score': 0.1939350962638855,\n",
       "  'token': 8540,\n",
       "  'token_str': 'feliz',\n",
       "  'sequence': 'Eu sou muito feliz. Recebi minha certificação hoje.'},\n",
       " {'score': 0.046809013932943344,\n",
       "  'token': 4062,\n",
       "  'token_str': 'bom',\n",
       "  'sequence': 'Eu sou muito bom. Recebi minha certificação hoje.'},\n",
       " {'score': 0.04473944008350372,\n",
       "  'token': 3264,\n",
       "  'token_str': 'boa',\n",
       "  'sequence': 'Eu sou muito boa. Recebi minha certificação hoje.'},\n",
       " {'score': 0.0285596065223217,\n",
       "  'token': 21323,\n",
       "  'token_str': 'humilde',\n",
       "  'sequence': 'Eu sou muito humilde. Recebi minha certificação hoje.'},\n",
       " {'score': 0.02297813817858696,\n",
       "  'token': 7103,\n",
       "  'token_str': 'legal',\n",
       "  'sequence': 'Eu sou muito legal. Recebi minha certificação hoje.'}]"
      ]
     },
     "execution_count": 8,
     "metadata": {},
     "output_type": "execute_result"
    }
   ],
   "source": [
    "print(\"BERTimbau\")\n",
    "pipe_bertimbau(frase)"
   ]
  },
  {
   "cell_type": "code",
   "execution_count": null,
   "metadata": {},
   "outputs": [],
   "source": [
    "# model.push_to_hub(\"iara-project/test-modbert\")\n",
    "# tokenizer.push_to_hub(\"iara-project/test-modbert\")"
   ]
  },
  {
   "cell_type": "code",
   "execution_count": null,
   "metadata": {},
   "outputs": [],
   "source": [
    "import seaborn as sns\n",
    "from modernbert_trainer.lr_scheduler import get_trapezoidal_lr, get_cosine_lr"
   ]
  },
  {
   "cell_type": "code",
   "execution_count": null,
   "metadata": {},
   "outputs": [],
   "source": [
    "lr_list = []\n",
    "for step in range(937500):\n",
    "    lr = get_cosine_lr(\n",
    "        step=step,\n",
    "        max_steps=937500,\n",
    "        base_lr=6e-4,\n",
    "        warmup_pct=0.01,\n",
    "        decay_pct=0.9,\n",
    "        min_lr=1e-8\n",
    "    )\n",
    "    lr_list.append(lr)"
   ]
  },
  {
   "cell_type": "code",
   "execution_count": null,
   "metadata": {},
   "outputs": [
    {
     "data": {
      "text/plain": [
       "<Axes: >"
      ]
     },
     "execution_count": 16,
     "metadata": {},
     "output_type": "execute_result"
    },
    {
     "data": {
      "image/png": "[encoded data removed]",
      "text/plain": [
       "<Figure size 640x480 with 1 Axes>"
      ]
     },
     "metadata": {},
     "output_type": "display_data"
    }
   ],
   "source": [
    "sns.lineplot(x = list(range(937500)), y = lr_list)"
   ]
  },
  {
   "cell_type": "code",
   "execution_count": null,
   "metadata": {},
   "outputs": [],
   "source": []
  }
 ],
 "metadata": {
  "kernelspec": {
   "display_name": ".venv",
   "language": "python",
   "name": "python3"
  },
  "language_info": {
   "codemirror_mode": {
    "name": "ipython",
    "version": 3
   },
   "file_extension": ".py",
   "mimetype": "text/x-python",
   "name": "python",
   "nbconvert_exporter": "python",
   "pygments_lexer": "ipython3",
   "version": "3.11.12"
  }
 },
 "nbformat": 4,
 "nbformat_minor": 2
}
