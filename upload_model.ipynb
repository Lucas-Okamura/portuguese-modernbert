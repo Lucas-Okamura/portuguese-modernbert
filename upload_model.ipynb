{
 "cells": [
  {
   "cell_type": "code",
   "execution_count": 1,
   "metadata": {},
   "outputs": [
    {
     "name": "stderr",
     "output_type": "stream",
     "text": [
      "/home/sagemaker-user/portuguese-modernbert/.venv/lib/python3.12/site-packages/tqdm/auto.py:21: TqdmWarning: IProgress not found. Please update jupyter and ipywidgets. See https://ipywidgets.readthedocs.io/en/stable/user_install.html\n",
      "  from .autonotebook import tqdm as notebook_tqdm\n"
     ]
    }
   ],
   "source": [
    "from transformers import AutoModelForMaskedLM, AutoTokenizer, pipeline\n"
   ]
  },
  {
   "cell_type": "code",
   "execution_count": 2,
   "metadata": {},
   "outputs": [
    {
     "name": "stdout",
     "output_type": "stream",
     "text": [
      "Special tokens and their IDs:\n",
      "pad_token: [PAD] - ID: 0\n",
      "cls_token: [CLS] - ID: 2\n",
      "sep_token: [SEP] - ID: 3\n",
      "mask_token: [MASK] - ID: 4\n",
      "unk_token: [UNK] - ID: 1\n",
      "\n",
      "All special tokens dictionary:\n",
      "{'unk_token': '[UNK]', 'sep_token': '[SEP]', 'pad_token': '[PAD]', 'cls_token': '[CLS]', 'mask_token': '[MASK]'}\n"
     ]
    }
   ],
   "source": [
    "tokenizer = AutoTokenizer.from_pretrained(\"ricardoz/BERTugues-base-portuguese-cased\")\n",
    "\n",
    "print(\"Special tokens and their IDs:\")\n",
    "print(f\"pad_token: {tokenizer.pad_token} - ID: {tokenizer.pad_token_id}\")\n",
    "print(f\"cls_token: {tokenizer.cls_token} - ID: {tokenizer.cls_token_id}\")\n",
    "print(f\"sep_token: {tokenizer.sep_token} - ID: {tokenizer.sep_token_id}\")\n",
    "print(f\"mask_token: {tokenizer.mask_token} - ID: {tokenizer.mask_token_id}\")\n",
    "print(f\"unk_token: {tokenizer.unk_token} - ID: {tokenizer.unk_token_id}\")\n",
    "\n",
    "# Para ver todos os tokens especiais juntos:\n",
    "print(\"\\nAll special tokens dictionary:\")\n",
    "print(tokenizer.special_tokens_map)"
   ]
  },
  {
   "cell_type": "code",
   "execution_count": 3,
   "metadata": {},
   "outputs": [
    {
     "name": "stdout",
     "output_type": "stream",
     "text": [
      "Special tokens IDs from the model config:\n",
      "pad_token_id: 50283\n",
      "cls_token_id: 50281\n",
      "sep_token_id: 50282\n",
      "bos_token_id: 50281\n",
      "eos_token_id: 50282\n"
     ]
    }
   ],
   "source": [
    "model = AutoModelForMaskedLM.from_pretrained(\"answerdotai/ModernBERT-base\")\n",
    "\n",
    "print(\"Special tokens IDs from the model config:\")\n",
    "print(f\"pad_token_id: {model.config.pad_token_id}\")\n",
    "print(f\"cls_token_id: {model.config.cls_token_id}\")\n",
    "print(f\"sep_token_id: {model.config.sep_token_id}\")\n",
    "# print(f\"mask_token_id: {model.config.mask_token_id}\")\n",
    "print(f\"bos_token_id: {model.config.bos_token_id}\")  # início de sequência (se aplicável)\n",
    "print(f\"eos_token_id: {model.config.eos_token_id}\")  # fim de sequência (se aplicável)\n"
   ]
  },
  {
   "cell_type": "code",
   "execution_count": 4,
   "metadata": {},
   "outputs": [
    {
     "name": "stderr",
     "output_type": "stream",
     "text": [
      "Device set to use cuda:0\n"
     ]
    }
   ],
   "source": [
    "model_path = \"checkpoints/ckpt-399999\"  # caminho local onde seu modelo foi salvo\n",
    "# model_path = \"modernbert-pt/ckpt-final\"\n",
    "\n",
    "# model = AutoModelForMaskedLM.from_pretrained(model_path)\n",
    "# tokenizer = AutoTokenizer.from_pretrained(model_path)\n",
    "pipe = pipeline(task=\"fill-mask\", model=model_path)"
   ]
  },
  {
   "cell_type": "code",
   "execution_count": 5,
   "metadata": {},
   "outputs": [
    {
     "data": {
      "text/plain": [
       "50368"
      ]
     },
     "execution_count": 5,
     "metadata": {},
     "output_type": "execute_result"
    }
   ],
   "source": [
    "model.get_input_embeddings().num_embeddings"
   ]
  },
  {
   "cell_type": "code",
   "execution_count": 6,
   "metadata": {},
   "outputs": [
    {
     "data": {
      "text/plain": [
       "[{'score': 0.10375136882066727,\n",
       "  'token': 18,\n",
       "  'token_str': '.',\n",
       "  'sequence': 'hoje acordei.. meu cachorro morreu.'},\n",
       " {'score': 0.02071095071732998,\n",
       "  'token': 606,\n",
       "  'token_str': '##i',\n",
       "  'sequence': 'hoje acordeii. meu cachorro morreu.'},\n",
       " {'score': 0.01050989143550396,\n",
       "  'token': 33,\n",
       "  'token_str': '?',\n",
       "  'sequence': 'hoje acordei?. meu cachorro morreu.'},\n",
       " {'score': 0.009077987633645535,\n",
       "  'token': 81,\n",
       "  'token_str': 'o',\n",
       "  'sequence': 'hoje acordei o. meu cachorro morreu.'},\n",
       " {'score': 0.008108653128147125,\n",
       "  'token': 71,\n",
       "  'token_str': 'e',\n",
       "  'sequence': 'hoje acordei e. meu cachorro morreu.'}]"
      ]
     },
     "execution_count": 6,
     "metadata": {},
     "output_type": "execute_result"
    }
   ],
   "source": [
    "pipe(\"Hoje acordei [MASK]. Meu cachorro morreu.\")"
   ]
  },
  {
   "cell_type": "code",
   "execution_count": 7,
   "metadata": {},
   "outputs": [],
   "source": [
    "# model.push_to_hub(\"LucasOkamura/test-modbert\")\n",
    "# tokenizer.push_to_hub(\"LucasOkamura/test-modbert\")"
   ]
  },
  {
   "cell_type": "code",
   "execution_count": 8,
   "metadata": {},
   "outputs": [],
   "source": [
    "import seaborn as sns\n",
    "from modernbert_trainer.lr_scheduler import get_trapezoidal_lr"
   ]
  },
  {
   "cell_type": "code",
   "execution_count": 9,
   "metadata": {},
   "outputs": [],
   "source": [
    "lr_list = []\n",
    "for step in range(937500):\n",
    "    lr = get_trapezoidal_lr(\n",
    "        step=step,\n",
    "        max_steps=937500,\n",
    "        base_lr=8e-4,\n",
    "        warmup_pct=0.05,\n",
    "        decay_pct=0.3,\n",
    "        min_lr=1e-8\n",
    "    )\n",
    "    lr_list.append(lr)"
   ]
  },
  {
   "cell_type": "code",
   "execution_count": 10,
   "metadata": {},
   "outputs": [
    {
     "data": {
      "text/plain": [
       "<Axes: >"
      ]
     },
     "execution_count": 10,
     "metadata": {},
     "output_type": "execute_result"
    },
    {
     "data": {
      "image/png": "[encoded data removed]",
      "text/plain": [
       "<Figure size 640x480 with 1 Axes>"
      ]
     },
     "metadata": {},
     "output_type": "display_data"
    }
   ],
   "source": [
    "sns.lineplot(x = list(range(937500)), y = lr_list)"
   ]
  }
 ],
 "metadata": {
  "kernelspec": {
   "display_name": ".venv",
   "language": "python",
   "name": "python3"
  },
  "language_info": {
   "codemirror_mode": {
    "name": "ipython",
    "version": 3
   },
   "file_extension": ".py",
   "mimetype": "text/x-python",
   "name": "python",
   "nbconvert_exporter": "python",
   "pygments_lexer": "ipython3",
   "version": "3.12.9"
  }
 },
 "nbformat": 4,
 "nbformat_minor": 2
}
